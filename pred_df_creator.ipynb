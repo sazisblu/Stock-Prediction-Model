{
 "cells": [
  {
   "cell_type": "markdown",
   "metadata": {},
   "source": [
    "# Create a new data set to predict the close prices using the model "
   ]
  },
  {
   "cell_type": "code",
   "execution_count": 2,
   "metadata": {},
   "outputs": [],
   "source": [
    "import pandas as pd \n",
    "from faker import Faker\n",
    "import random"
   ]
  },
  {
   "cell_type": "code",
   "execution_count": 5,
   "metadata": {},
   "outputs": [
    {
     "name": "stdout",
     "output_type": "stream",
     "text": [
      "     High     Low    Open   Volume\n",
      "0  608.56  522.13  563.36  1199098\n",
      "1  616.82  571.19  577.92  2870744\n",
      "2  665.43  569.48  613.69  3962125\n",
      "3  733.97  587.92  675.49  1128584\n",
      "4  790.79  536.57  780.82  4646729\n"
     ]
    }
   ],
   "source": [
    "def Datasetcreator(size):\n",
    "    data = []\n",
    "    for _ in range(size):\n",
    "        high = round(random.uniform(600, 800), 2)  # Random high price between 600 and 800\n",
    "        low = round(random.uniform(500, 600), 2)   # Random low price between 500 and 600\n",
    "        open_price = round(random.uniform(low, high), 2)  # Open price between low and high\n",
    "        volume = random.randint(1000000, 5000000)  # Random volume between 1M and 5M\n",
    "        data.append({\n",
    "            'High': high,\n",
    "            'Low': low,\n",
    "            'Open': open_price,\n",
    "            'Volume': volume\n",
    "        })\n",
    "    \n",
    "    return pd.DataFrame(data)\n",
    "\n",
    "# Generate the DataFrame\n",
    "tesla_stock_data = Datasetcreator(100)\n",
    "tesla_stock_data.to_csv('tesla_Pred.csv')\n",
    "# Display the first few rows of the DataFrame\n",
    "print(tesla_stock_data.head())\n",
    "\n"
   ]
  }
 ],
 "metadata": {
  "kernelspec": {
   "display_name": "Virtenv",
   "language": "python",
   "name": "python3"
  },
  "language_info": {
   "codemirror_mode": {
    "name": "ipython",
    "version": 3
   },
   "file_extension": ".py",
   "mimetype": "text/x-python",
   "name": "python",
   "nbconvert_exporter": "python",
   "pygments_lexer": "ipython3",
   "version": "3.13.0"
  }
 },
 "nbformat": 4,
 "nbformat_minor": 2
}
